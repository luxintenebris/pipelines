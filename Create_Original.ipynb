{
 "cells": [
  {
   "cell_type": "code",
   "execution_count": 6,
   "metadata": {},
   "outputs": [
    {
     "name": "stdout",
     "output_type": "stream",
     "text": [
      "База данных подключена к SQLite\n",
      "Таблица SQLite создана\n",
      "Соединение с SQLite закрыто\n"
     ]
    }
   ],
   "source": [
    "\n",
    "import sqlite3\n",
    "\n",
    "try:\n",
    "    sqlite_connection = sqlite3.connect('original.db')\n",
    "    sqlite_create_table_query = '''CREATE TABLE sqlitedb_developers (\n",
    "                                id INTEGER PRIMARY KEY,\n",
    "                                name TEXT NOT NULL,\n",
    "                                url text NOT NULL);'''\n",
    "\n",
    "    cursor = sqlite_connection.cursor()\n",
    "    print(\"База данных подключена к SQLite\")\n",
    "    cursor.execute(sqlite_create_table_query)\n",
    "    sqlite_connection.commit()\n",
    "    print(\"Таблица SQLite создана\")\n",
    "\n",
    "    cursor.close()\n",
    "\n",
    "except sqlite3.Error as error:\n",
    "    print(\"Ошибка при подключении к sqlite\", error)\n",
    "finally:\n",
    "    if (sqlite_connection):\n",
    "        sqlite_connection.close()\n",
    "        print(\"Соединение с SQLite закрыто\")"
   ]
  },
  {
   "cell_type": "code",
   "execution_count": 9,
   "metadata": {},
   "outputs": [
    {
     "name": "stdout",
     "output_type": "stream",
     "text": [
      "Подключен к SQLite\n",
      "Всего строк, измененных после подключения к базе данных:  1\n",
      "Соединение с SQLite закрыто\n"
     ]
    }
   ],
   "source": [
    "try:\n",
    "    sqlite_connection = sqlite3.connect('original.db')\n",
    "    cursor = sqlite_connection.cursor()\n",
    "    print(\"Подключен к SQLite\")\n",
    "\n",
    "    # sqlite_insert_query = \"\"\"INSERT INTO sqlitedb_developers\n",
    "    #                       (id, name, url)\n",
    "    #                       VALUES (1, 'hello', 'http://hello.com/home');\"\"\"\n",
    "    # cursor.execute(sqlite_insert_query)\n",
    "\n",
    "    sqlite_insert_query = \"\"\"INSERT INTO sqlitedb_developers\n",
    "                          (id, name, url)\n",
    "                          VALUES (2, 'world', 'https://world.org/');\"\"\"\n",
    "    cursor.execute(sqlite_insert_query)\n",
    "\n",
    "    sqlite_connection.commit()\n",
    "    cursor.close()\n",
    "\n",
    "except sqlite3.Error as error:\n",
    "    print(\"Ошибка при работе с SQLite\", error)\n",
    "finally:\n",
    "    if (sqlite_connection):\n",
    "        print(\"Всего строк, измененных после подключения к базе данных: \", sqlite_connection.total_changes)\n",
    "        sqlite_connection.close()\n",
    "        print(\"Соединение с SQLite закрыто\")\n"
   ]
  }
 ],
 "metadata": {
  "kernelspec": {
   "display_name": "Python 3",
   "language": "python",
   "name": "python3"
  },
  "language_info": {
   "codemirror_mode": {
    "name": "ipython",
    "version": 3
   },
   "file_extension": ".py",
   "mimetype": "text/x-python",
   "name": "python",
   "nbconvert_exporter": "python",
   "pygments_lexer": "ipython3",
   "version": "3.10.10"
  },
  "orig_nbformat": 4
 },
 "nbformat": 4,
 "nbformat_minor": 2
}
