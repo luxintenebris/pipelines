{
 "cells": [
  {
   "cell_type": "code",
   "execution_count": 72,
   "metadata": {},
   "outputs": [
    {
     "name": "stdout",
     "output_type": "stream",
     "text": [
      "База данных подключена к SQLite\n",
      "Ошибка при подключении к sqlite table sqlitedb_developers1 already exists\n",
      "Соединение с SQLite закрыто\n"
     ]
    }
   ],
   "source": [
    "import sqlite3\n",
    "\n",
    "try:\n",
    "    sqlite_connection = sqlite3.connect('original.db')\n",
    "    sqlite_create_table_query = '''CREATE TABLE sqlitedb_developers1 (\n",
    "                                id INTEGER PRIMARY KEY,\n",
    "                                name TEXT NOT NULL,\n",
    "                                url text NOT NULL,\n",
    "                                domain_of_url NOT NULL);'''\n",
    "\n",
    "    cursor = sqlite_connection.cursor()\n",
    "    print(\"База данных подключена к SQLite\")\n",
    "    cursor.execute(sqlite_create_table_query)\n",
    "    sqlite_connection.commit()\n",
    "    print(\"Таблица SQLite создана\")\n",
    "\n",
    "    cursor.close()\n",
    "\n",
    "except sqlite3.Error as error:\n",
    "    print(\"Ошибка при подключении к sqlite\", error)\n",
    "finally:\n",
    "    if (sqlite_connection):\n",
    "        sqlite_connection.close()\n",
    "        print(\"Соединение с SQLite закрыто\")"
   ]
  },
  {
   "cell_type": "code",
   "execution_count": 73,
   "metadata": {},
   "outputs": [
    {
     "name": "stdout",
     "output_type": "stream",
     "text": [
      "Connected to SQLite\n"
     ]
    },
    {
     "data": {
      "text/plain": [
       "['1 hello http://hello.com/home hello.com',\n",
       " '2 world https://world.org/ world.org']"
      ]
     },
     "execution_count": 73,
     "metadata": {},
     "output_type": "execute_result"
    }
   ],
   "source": [
    "sqliteConnection = sqlite3.connect('original.db')\n",
    "cursor = sqliteConnection.cursor()\n",
    "print(\"Connected to SQLite\")\n",
    "\n",
    "lst = []\n",
    "\n",
    "sqlite_select_query = \"\"\"SELECT * from sqlitedb_developers\"\"\"\n",
    "cursor.execute(sqlite_select_query)\n",
    "records = cursor.fetchall()\n",
    "\n",
    "for row in records: \n",
    "    lst.append(str(row[0]) + ' ' + row[1] + ' ' + row[2] + ' ' +row[2].split('/')[2])\n",
    "\n",
    "cursor.close()\n",
    "lst"
   ]
  },
  {
   "cell_type": "code",
   "execution_count": 74,
   "metadata": {},
   "outputs": [
    {
     "name": "stdout",
     "output_type": "stream",
     "text": [
      "Подключен к SQLite\n"
     ]
    }
   ],
   "source": [
    "sqlite_connection = sqlite3.connect('original.db')\n",
    "cursor = sqlite_connection.cursor()\n",
    "print(\"Подключен к SQLite\")\n",
    "\n",
    "sqlite_insert_query = \"\"\"DELETE FROM sqlitedb_developers1\"\"\"\n",
    "cursor.execute(sqlite_insert_query)\n",
    "\n",
    "row = []\n",
    "\n",
    "for i in range(len(lst)):\n",
    "\n",
    "    row = lst[i].split(' ')\n",
    "    sqlite_insert_query = f\"\"\"INSERT INTO sqlitedb_developers1\n",
    "                            (id, name, url, domain_of_url) \n",
    "                            VALUES({int(row[0])}, \"{row[1]}\", \"{row[2]}\", \"{row[3]}\")\n",
    "                            \"\"\" \n",
    "    cursor.execute(sqlite_insert_query)\n",
    "\n",
    "sqlite_connection.commit()\n",
    "cursor.close()"
   ]
  }
 ],
 "metadata": {
  "kernelspec": {
   "display_name": "Python 3",
   "language": "python",
   "name": "python3"
  },
  "language_info": {
   "codemirror_mode": {
    "name": "ipython",
    "version": 3
   },
   "file_extension": ".py",
   "mimetype": "text/x-python",
   "name": "python",
   "nbconvert_exporter": "python",
   "pygments_lexer": "ipython3",
   "version": "3.10.10"
  },
  "orig_nbformat": 4
 },
 "nbformat": 4,
 "nbformat_minor": 2
}
